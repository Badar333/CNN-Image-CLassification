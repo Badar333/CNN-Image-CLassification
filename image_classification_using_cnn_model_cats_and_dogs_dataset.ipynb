{
  "nbformat": 4,
  "nbformat_minor": 0,
  "metadata": {
    "colab": {
      "provenance": []
    },
    "kernelspec": {
      "name": "python3",
      "display_name": "Python 3"
    },
    "language_info": {
      "name": "python"
    }
  },
  "cells": [
    {
      "cell_type": "code",
      "execution_count": null,
      "metadata": {
        "colab": {
          "base_uri": "https://localhost:8080/"
        },
        "id": "ID42q7EiyPFz",
        "outputId": "5e532bd2-f8c3-4844-8dbe-8a301dca9139"
      },
      "outputs": [
        {
          "output_type": "stream",
          "name": "stdout",
          "text": [
            "Requirement already satisfied: numpy in /usr/local/lib/python3.10/dist-packages (1.23.5)\n",
            "Requirement already satisfied: opencv.python in /usr/local/lib/python3.10/dist-packages (4.8.0.76)\n",
            "Requirement already satisfied: numpy>=1.21.2 in /usr/local/lib/python3.10/dist-packages (from opencv.python) (1.23.5)\n",
            "Requirement already satisfied: matplotlib in /usr/local/lib/python3.10/dist-packages (3.7.1)\n",
            "Requirement already satisfied: contourpy>=1.0.1 in /usr/local/lib/python3.10/dist-packages (from matplotlib) (1.2.0)\n",
            "Requirement already satisfied: cycler>=0.10 in /usr/local/lib/python3.10/dist-packages (from matplotlib) (0.12.1)\n",
            "Requirement already satisfied: fonttools>=4.22.0 in /usr/local/lib/python3.10/dist-packages (from matplotlib) (4.48.1)\n",
            "Requirement already satisfied: kiwisolver>=1.0.1 in /usr/local/lib/python3.10/dist-packages (from matplotlib) (1.4.5)\n",
            "Requirement already satisfied: numpy>=1.20 in /usr/local/lib/python3.10/dist-packages (from matplotlib) (1.23.5)\n",
            "Requirement already satisfied: packaging>=20.0 in /usr/local/lib/python3.10/dist-packages (from matplotlib) (23.2)\n",
            "Requirement already satisfied: pillow>=6.2.0 in /usr/local/lib/python3.10/dist-packages (from matplotlib) (9.4.0)\n",
            "Requirement already satisfied: pyparsing>=2.3.1 in /usr/local/lib/python3.10/dist-packages (from matplotlib) (3.1.1)\n",
            "Requirement already satisfied: python-dateutil>=2.7 in /usr/local/lib/python3.10/dist-packages (from matplotlib) (2.8.2)\n",
            "Requirement already satisfied: six>=1.5 in /usr/local/lib/python3.10/dist-packages (from python-dateutil>=2.7->matplotlib) (1.16.0)\n"
          ]
        }
      ],
      "source": [
        "! pip install numpy\n",
        "! pip install opencv.python\n",
        "\n",
        "! pip install matplotlib\n",
        "import numpy as np\n",
        "import random\n",
        "import os\n",
        "import cv2\n",
        "import matplotlib.pyplot as plt\n",
        "import pickle\n",
        "import tensorflow as tf\n",
        "\n"
      ]
    },
    {
      "cell_type": "code",
      "source": [
        "DIRECTORY='/content/drive/MyDrive/Category'\n",
        "CATEGORIES=['CATS','DOGS']\n"
      ],
      "metadata": {
        "id": "k4jpJ8Adytbs"
      },
      "execution_count": null,
      "outputs": []
    },
    {
      "cell_type": "code",
      "source": [
        "IMG_SIZE = 100\n",
        "data = []\n",
        "\n",
        "for category in CATEGORIES:\n",
        "    folder = os.path.join(DIRECTORY, category)\n",
        "    labels = CATEGORIES.index(category)\n",
        "    for img in os.listdir(folder):\n",
        "        img_path = os.path.join(folder, img)\n",
        "        img_arr = cv2.imread(img_path)\n",
        "        img_arr = cv2.resize(img_arr, (IMG_SIZE, IMG_SIZE))  # Resize the image\n",
        "        img_arr = tf.convert_to_tensor(img_arr)  # Convert NumPy array to tensor\n",
        "        data.append([img_arr, labels])\n",
        "\n"
      ],
      "metadata": {
        "id": "sz2IrJZo4nri"
      },
      "execution_count": null,
      "outputs": []
    },
    {
      "cell_type": "code",
      "source": [
        "len(data)"
      ],
      "metadata": {
        "id": "XQ_IAyQ_6hX_",
        "colab": {
          "base_uri": "https://localhost:8080/"
        },
        "outputId": "16680ee3-b44f-4efd-aa3f-3c0302df4eb0"
      },
      "execution_count": null,
      "outputs": [
        {
          "output_type": "execute_result",
          "data": {
            "text/plain": [
              "200"
            ]
          },
          "metadata": {},
          "execution_count": 95
        }
      ]
    },
    {
      "cell_type": "code",
      "source": [
        "random.shuffle(data)\n",
        "data[0]\n"
      ],
      "metadata": {
        "colab": {
          "base_uri": "https://localhost:8080/"
        },
        "id": "mGztj-kRFVSp",
        "outputId": "9284a27b-3532-42b8-be79-041978479140"
      },
      "execution_count": null,
      "outputs": [
        {
          "output_type": "execute_result",
          "data": {
            "text/plain": [
              "[<tf.Tensor: shape=(100, 100, 3), dtype=uint8, numpy=\n",
              " array([[[ 73,  82,  94],\n",
              "         [ 83,  73,  82],\n",
              "         [ 88, 108, 131],\n",
              "         ...,\n",
              "         [ 29,  41,  35],\n",
              "         [ 17,  40,  32],\n",
              "         [  3,  36,  29]],\n",
              " \n",
              "        [[ 81,  85,  84],\n",
              "         [ 97,  81,  68],\n",
              "         [ 74,  85,  88],\n",
              "         ...,\n",
              "         [ 34,  48,  42],\n",
              "         [ 29,  50,  42],\n",
              "         [ 13,  48,  40]],\n",
              " \n",
              "        [[108,  92,  70],\n",
              "         [124,  95,  59],\n",
              "         [ 65,  65,  55],\n",
              "         ...,\n",
              "         [ 38,  52,  46],\n",
              "         [ 33,  49,  42],\n",
              "         [  6,  40,  29]],\n",
              " \n",
              "        ...,\n",
              " \n",
              "        [[104, 115, 119],\n",
              "         [103, 116, 119],\n",
              "         [ 73,  84,  88],\n",
              "         ...,\n",
              "         [ 94, 107, 109],\n",
              "         [104, 118, 117],\n",
              "         [ 95, 107, 111]],\n",
              " \n",
              "        [[ 64,  83,  90],\n",
              "         [ 79,  88,  97],\n",
              "         [ 66,  77,  85],\n",
              "         ...,\n",
              "         [109, 121, 127],\n",
              "         [122, 140, 147],\n",
              "         [101, 119, 126]],\n",
              " \n",
              "        [[ 49,  74,  80],\n",
              "         [ 74,  91,  98],\n",
              "         [ 71,  89,  96],\n",
              "         ...,\n",
              "         [ 96, 108, 114],\n",
              "         [117, 134, 143],\n",
              "         [ 89, 106, 115]]], dtype=uint8)>,\n",
              " 1]"
            ]
          },
          "metadata": {},
          "execution_count": 96
        }
      ]
    },
    {
      "cell_type": "code",
      "source": [
        "x=[]\n",
        "y=[]\n",
        "for features, labels in data:\n",
        "  x.append(features)\n",
        "  y.append(labels)\n",
        "\n"
      ],
      "metadata": {
        "id": "67gBIF0fFZLp"
      },
      "execution_count": null,
      "outputs": []
    },
    {
      "cell_type": "code",
      "source": [
        "x=np.array(x)\n",
        "y=np.array(y)\n",
        "\n",
        "pickle.dump(x, open('x.pkl', 'wb'))\n",
        "pickle.dump(y, open('y.pkl', 'wb'))"
      ],
      "metadata": {
        "id": "E0vo_yTQFaxS"
      },
      "execution_count": null,
      "outputs": []
    },
    {
      "cell_type": "code",
      "source": [
        "import pickle\n",
        "pickle.load(open('x.pkl', 'rb'))\n",
        "pickle.load(open('y.pkl', 'rb'))\n",
        "\n"
      ],
      "metadata": {
        "colab": {
          "base_uri": "https://localhost:8080/"
        },
        "id": "Dd0IQFmcHihs",
        "outputId": "b2b7aa22-8b77-43de-a944-c86cd1a52d8d"
      },
      "execution_count": null,
      "outputs": [
        {
          "output_type": "execute_result",
          "data": {
            "text/plain": [
              "array([1, 0, 1, 1, 1, 1, 0, 1, 0, 1, 0, 0, 1, 0, 0, 1, 1, 0, 0, 1, 1, 1,\n",
              "       0, 1, 1, 0, 0, 1, 0, 0, 1, 0, 0, 0, 0, 1, 1, 1, 0, 0, 0, 1, 0, 1,\n",
              "       1, 1, 0, 0, 0, 0, 1, 0, 0, 0, 1, 0, 1, 0, 0, 1, 1, 1, 1, 0, 0, 0,\n",
              "       1, 0, 0, 1, 1, 1, 1, 0, 0, 1, 0, 1, 1, 1, 1, 1, 0, 0, 1, 0, 1, 1,\n",
              "       1, 0, 0, 1, 0, 0, 1, 1, 1, 1, 1, 0, 1, 0, 0, 1, 0, 1, 0, 1, 0, 0,\n",
              "       1, 0, 0, 0, 1, 0, 1, 0, 1, 0, 1, 1, 0, 1, 1, 0, 1, 0, 0, 1, 0, 0,\n",
              "       0, 1, 1, 0, 0, 0, 1, 1, 0, 0, 1, 1, 1, 0, 0, 1, 1, 1, 0, 0, 1, 0,\n",
              "       1, 1, 0, 0, 1, 0, 1, 1, 0, 0, 0, 1, 1, 1, 0, 0, 1, 0, 1, 1, 1, 0,\n",
              "       0, 0, 1, 0, 0, 0, 0, 1, 0, 1, 1, 1, 0, 1, 0, 0, 1, 1, 1, 0, 1, 0,\n",
              "       0, 1])"
            ]
          },
          "metadata": {},
          "execution_count": 99
        }
      ]
    },
    {
      "cell_type": "code",
      "source": [
        "x,y"
      ],
      "metadata": {
        "colab": {
          "base_uri": "https://localhost:8080/"
        },
        "id": "sbl6srxkJnNB",
        "outputId": "1aa6af28-e999-48d2-d745-bde0be854873"
      },
      "execution_count": null,
      "outputs": [
        {
          "output_type": "execute_result",
          "data": {
            "text/plain": [
              "(array([[[[ 73,  82,  94],\n",
              "          [ 83,  73,  82],\n",
              "          [ 88, 108, 131],\n",
              "          ...,\n",
              "          [ 29,  41,  35],\n",
              "          [ 17,  40,  32],\n",
              "          [  3,  36,  29]],\n",
              " \n",
              "         [[ 81,  85,  84],\n",
              "          [ 97,  81,  68],\n",
              "          [ 74,  85,  88],\n",
              "          ...,\n",
              "          [ 34,  48,  42],\n",
              "          [ 29,  50,  42],\n",
              "          [ 13,  48,  40]],\n",
              " \n",
              "         [[108,  92,  70],\n",
              "          [124,  95,  59],\n",
              "          [ 65,  65,  55],\n",
              "          ...,\n",
              "          [ 38,  52,  46],\n",
              "          [ 33,  49,  42],\n",
              "          [  6,  40,  29]],\n",
              " \n",
              "         ...,\n",
              " \n",
              "         [[104, 115, 119],\n",
              "          [103, 116, 119],\n",
              "          [ 73,  84,  88],\n",
              "          ...,\n",
              "          [ 94, 107, 109],\n",
              "          [104, 118, 117],\n",
              "          [ 95, 107, 111]],\n",
              " \n",
              "         [[ 64,  83,  90],\n",
              "          [ 79,  88,  97],\n",
              "          [ 66,  77,  85],\n",
              "          ...,\n",
              "          [109, 121, 127],\n",
              "          [122, 140, 147],\n",
              "          [101, 119, 126]],\n",
              " \n",
              "         [[ 49,  74,  80],\n",
              "          [ 74,  91,  98],\n",
              "          [ 71,  89,  96],\n",
              "          ...,\n",
              "          [ 96, 108, 114],\n",
              "          [117, 134, 143],\n",
              "          [ 89, 106, 115]]],\n",
              " \n",
              " \n",
              "        [[[255, 255, 255],\n",
              "          [255, 255, 255],\n",
              "          [255, 255, 255],\n",
              "          ...,\n",
              "          [255, 255, 255],\n",
              "          [255, 255, 255],\n",
              "          [255, 255, 255]],\n",
              " \n",
              "         [[255, 255, 255],\n",
              "          [255, 255, 255],\n",
              "          [255, 255, 255],\n",
              "          ...,\n",
              "          [255, 255, 255],\n",
              "          [255, 255, 255],\n",
              "          [255, 255, 255]],\n",
              " \n",
              "         [[255, 255, 255],\n",
              "          [255, 255, 255],\n",
              "          [255, 255, 255],\n",
              "          ...,\n",
              "          [255, 255, 255],\n",
              "          [255, 255, 255],\n",
              "          [255, 255, 255]],\n",
              " \n",
              "         ...,\n",
              " \n",
              "         [[255, 255, 255],\n",
              "          [255, 255, 255],\n",
              "          [255, 255, 255],\n",
              "          ...,\n",
              "          [255, 255, 255],\n",
              "          [255, 255, 255],\n",
              "          [255, 255, 255]],\n",
              " \n",
              "         [[255, 255, 255],\n",
              "          [255, 255, 255],\n",
              "          [255, 255, 255],\n",
              "          ...,\n",
              "          [255, 255, 255],\n",
              "          [255, 255, 255],\n",
              "          [255, 255, 255]],\n",
              " \n",
              "         [[255, 255, 255],\n",
              "          [255, 255, 255],\n",
              "          [255, 255, 255],\n",
              "          ...,\n",
              "          [255, 255, 255],\n",
              "          [255, 255, 255],\n",
              "          [255, 255, 255]]],\n",
              " \n",
              " \n",
              "        [[[ 59,  82, 128],\n",
              "          [ 57,  80, 127],\n",
              "          [ 67,  90, 140],\n",
              "          ...,\n",
              "          [ 15,  36,  65],\n",
              "          [ 14,  35,  68],\n",
              "          [ 16,  38,  73]],\n",
              " \n",
              "         [[ 67,  90, 135],\n",
              "          [ 58,  81, 128],\n",
              "          [ 63,  85, 136],\n",
              "          ...,\n",
              "          [ 15,  36,  65],\n",
              "          [ 14,  36,  69],\n",
              "          [ 16,  38,  73]],\n",
              " \n",
              "         [[ 65,  88, 133],\n",
              "          [ 56,  78, 125],\n",
              "          [ 55,  76, 127],\n",
              "          ...,\n",
              "          [ 16,  37,  66],\n",
              "          [ 16,  38,  71],\n",
              "          [ 16,  38,  73]],\n",
              " \n",
              "         ...,\n",
              " \n",
              "         [[ 38,  70, 142],\n",
              "          [ 48,  73, 136],\n",
              "          [ 54,  71, 119],\n",
              "          ...,\n",
              "          [ 19,  31,  57],\n",
              "          [ 17,  30,  53],\n",
              "          [ 13,  26,  48]],\n",
              " \n",
              "         [[ 27,  58, 132],\n",
              "          [ 39,  64, 128],\n",
              "          [ 46,  62, 112],\n",
              "          ...,\n",
              "          [ 20,  31,  57],\n",
              "          [ 17,  30,  53],\n",
              "          [ 13,  26,  48]],\n",
              " \n",
              "         [[ 38,  68, 142],\n",
              "          [ 42,  67, 131],\n",
              "          [ 46,  62, 112],\n",
              "          ...,\n",
              "          [ 20,  31,  57],\n",
              "          [ 17,  30,  53],\n",
              "          [ 13,  26,  48]]],\n",
              " \n",
              " \n",
              "        ...,\n",
              " \n",
              " \n",
              "        [[[ 66,  71,  72],\n",
              "          [ 49,  55,  54],\n",
              "          [ 47,  53,  52],\n",
              "          ...,\n",
              "          [165, 159, 156],\n",
              "          [139, 133, 123],\n",
              "          [125, 117, 111]],\n",
              " \n",
              "         [[ 24,  32,  32],\n",
              "          [ 65,  69,  71],\n",
              "          [ 44,  49,  50],\n",
              "          ...,\n",
              "          [179, 171, 168],\n",
              "          [143, 136, 127],\n",
              "          [126, 116, 108]],\n",
              " \n",
              "         [[ 17,  27,  27],\n",
              "          [ 54,  62,  62],\n",
              "          [ 44,  49,  50],\n",
              "          ...,\n",
              "          [191, 186, 183],\n",
              "          [154, 145, 138],\n",
              "          [119, 109, 102]],\n",
              " \n",
              "         ...,\n",
              " \n",
              "         [[164, 180, 194],\n",
              "          [174, 187, 201],\n",
              "          [186, 197, 209],\n",
              "          ...,\n",
              "          [168, 177, 181],\n",
              "          [165, 171, 176],\n",
              "          [164, 170, 177]],\n",
              " \n",
              "         [[166, 181, 197],\n",
              "          [163, 176, 192],\n",
              "          [185, 194, 207],\n",
              "          ...,\n",
              "          [166, 172, 177],\n",
              "          [173, 176, 184],\n",
              "          [186, 187, 197]],\n",
              " \n",
              "         [[166, 180, 196],\n",
              "          [161, 176, 192],\n",
              "          [174, 183, 196],\n",
              "          ...,\n",
              "          [188, 193, 196],\n",
              "          [181, 184, 189],\n",
              "          [179, 178, 186]]],\n",
              " \n",
              " \n",
              "        [[[ 37,  32,  43],\n",
              "          [ 10,   8,  16],\n",
              "          [ 13,   6,   7],\n",
              "          ...,\n",
              "          [ 42,  27,  56],\n",
              "          [ 20,   6,  26],\n",
              "          [ 12,  11,  10]],\n",
              " \n",
              "         [[ 60,  49,  76],\n",
              "          [  8,   5,  19],\n",
              "          [  6,   1,   1],\n",
              "          ...,\n",
              "          [ 20,  16,  18],\n",
              "          [ 21,  10,  24],\n",
              "          [ 21,  15,  18]],\n",
              " \n",
              "         [[ 65,  50,  96],\n",
              "          [ 38,  27,  69],\n",
              "          [ 16,   8,  23],\n",
              "          ...,\n",
              "          [ 34,  27,  45],\n",
              "          [ 22,  16,  27],\n",
              "          [ 42,  31,  59]],\n",
              " \n",
              "         ...,\n",
              " \n",
              "         [[ 90,  76, 115],\n",
              "          [118,  91, 170],\n",
              "          [123,  96, 181],\n",
              "          ...,\n",
              "          [ 57,  48,  60],\n",
              "          [ 47,  43,  55],\n",
              "          [148, 154, 187]],\n",
              " \n",
              "         [[113,  92, 160],\n",
              "          [115,  86, 180],\n",
              "          [ 95,  76, 146],\n",
              "          ...,\n",
              "          [ 40,  30,  45],\n",
              "          [ 39,  31,  40],\n",
              "          [ 32,  35,  56]],\n",
              " \n",
              "         [[152, 139, 186],\n",
              "          [127, 112, 167],\n",
              "          [ 94,  86, 121],\n",
              "          ...,\n",
              "          [ 62,  55,  64],\n",
              "          [ 74,  64,  69],\n",
              "          [ 97,  89, 108]]],\n",
              " \n",
              " \n",
              "        [[[ 30,  32,  36],\n",
              "          [ 51,  52,  56],\n",
              "          [ 48,  45,  50],\n",
              "          ...,\n",
              "          [105, 113, 135],\n",
              "          [ 75,  83,  99],\n",
              "          [ 99, 108, 123]],\n",
              " \n",
              "         [[ 48,  59,  63],\n",
              "          [ 40,  48,  53],\n",
              "          [ 54,  58,  63],\n",
              "          ...,\n",
              "          [ 82,  91, 104],\n",
              "          [ 65,  74,  82],\n",
              "          [ 66,  76,  84]],\n",
              " \n",
              "         [[ 44,  58,  64],\n",
              "          [ 32,  44,  50],\n",
              "          [ 39,  47,  54],\n",
              "          ...,\n",
              "          [ 73,  82,  91],\n",
              "          [ 47,  56,  59],\n",
              "          [ 44,  52,  56]],\n",
              " \n",
              "         ...,\n",
              " \n",
              "         [[ 86, 129, 150],\n",
              "          [ 44,  82, 106],\n",
              "          [ 88, 122, 146],\n",
              "          ...,\n",
              "          [ 31, 111, 129],\n",
              "          [ 35, 157, 165],\n",
              "          [131, 157, 184]],\n",
              " \n",
              "         [[ 29,  66,  94],\n",
              "          [ 85, 125, 146],\n",
              "          [ 98, 134, 158],\n",
              "          ...,\n",
              "          [  2,  60,  70],\n",
              "          [ 51, 212, 211],\n",
              "          [  4,  77,  93]],\n",
              " \n",
              "         [[113, 145, 174],\n",
              "          [ 88, 127, 142],\n",
              "          [ 49,  89, 109],\n",
              "          ...,\n",
              "          [ 38,  87,  90],\n",
              "          [ 64, 169, 171],\n",
              "          [ 68, 244, 238]]]], dtype=uint8),\n",
              " array([1, 0, 1, 1, 1, 1, 0, 1, 0, 1, 0, 0, 1, 0, 0, 1, 1, 0, 0, 1, 1, 1,\n",
              "        0, 1, 1, 0, 0, 1, 0, 0, 1, 0, 0, 0, 0, 1, 1, 1, 0, 0, 0, 1, 0, 1,\n",
              "        1, 1, 0, 0, 0, 0, 1, 0, 0, 0, 1, 0, 1, 0, 0, 1, 1, 1, 1, 0, 0, 0,\n",
              "        1, 0, 0, 1, 1, 1, 1, 0, 0, 1, 0, 1, 1, 1, 1, 1, 0, 0, 1, 0, 1, 1,\n",
              "        1, 0, 0, 1, 0, 0, 1, 1, 1, 1, 1, 0, 1, 0, 0, 1, 0, 1, 0, 1, 0, 0,\n",
              "        1, 0, 0, 0, 1, 0, 1, 0, 1, 0, 1, 1, 0, 1, 1, 0, 1, 0, 0, 1, 0, 0,\n",
              "        0, 1, 1, 0, 0, 0, 1, 1, 0, 0, 1, 1, 1, 0, 0, 1, 1, 1, 0, 0, 1, 0,\n",
              "        1, 1, 0, 0, 1, 0, 1, 1, 0, 0, 0, 1, 1, 1, 0, 0, 1, 0, 1, 1, 1, 0,\n",
              "        0, 0, 1, 0, 0, 0, 0, 1, 0, 1, 1, 1, 0, 1, 0, 0, 1, 1, 1, 0, 1, 0,\n",
              "        0, 1]))"
            ]
          },
          "metadata": {},
          "execution_count": 100
        }
      ]
    },
    {
      "cell_type": "code",
      "source": [
        "\n",
        "y=y/255\n",
        "x=x/255"
      ],
      "metadata": {
        "id": "d6DexeZmJqVl"
      },
      "execution_count": null,
      "outputs": []
    },
    {
      "cell_type": "code",
      "source": [
        "x.shape\n",
        "y.shape\n"
      ],
      "metadata": {
        "colab": {
          "base_uri": "https://localhost:8080/"
        },
        "id": "o3DFfCtRJ75J",
        "outputId": "dbf5cfc2-8681-4ac8-be98-d794a14c53c0"
      },
      "execution_count": null,
      "outputs": [
        {
          "output_type": "execute_result",
          "data": {
            "text/plain": [
              "(200,)"
            ]
          },
          "metadata": {},
          "execution_count": 105
        }
      ]
    },
    {
      "cell_type": "code",
      "source": [
        "from keras.models import Sequential\n",
        "from keras.layers import Conv2D, MaxPooling2D, Flatten, Dense\n",
        "\n",
        "model = Sequential()\n",
        "\n",
        "model.add(Conv2D(64, (3,3), activation = 'relu'))\n",
        "model.add(MaxPooling2D((2,2)))\n",
        "\n",
        "\n",
        "model.add(Conv2D(64, (3,3), activation = 'relu'))\n",
        "model.add(MaxPooling2D((2,2)))\n",
        "\n",
        "model.add(Flatten())\n",
        "\n",
        "\n",
        "model.add(Dense(128, activation=\"relu\"))\n",
        "model.add(Dense(2, activation=\"softmax\"))\n",
        "\n",
        "model.compile(optimizer = 'adam', loss='sparse_categorical_crossentropy', metrics=[\"accuracy\"])\n",
        "\n",
        "model.fit(x,y, epochs=5, validation_split=0.1,)\n"
      ],
      "metadata": {
        "colab": {
          "base_uri": "https://localhost:8080/"
        },
        "id": "eBSyGF-YLrGr",
        "outputId": "447568d5-c128-40a4-8678-d8b56ea1f794"
      },
      "execution_count": null,
      "outputs": [
        {
          "output_type": "stream",
          "name": "stdout",
          "text": [
            "Epoch 1/5\n",
            "6/6 [==============================] - 6s 849ms/step - loss: 0.1261 - accuracy: 0.4500 - val_loss: 0.0000e+00 - val_accuracy: 0.5000\n",
            "Epoch 2/5\n",
            "6/6 [==============================] - 6s 988ms/step - loss: 0.0000e+00 - accuracy: 0.5000 - val_loss: 0.0000e+00 - val_accuracy: 0.5000\n",
            "Epoch 3/5\n",
            "6/6 [==============================] - 6s 846ms/step - loss: 0.0000e+00 - accuracy: 0.5000 - val_loss: 0.0000e+00 - val_accuracy: 0.5000\n",
            "Epoch 4/5\n",
            "6/6 [==============================] - 5s 825ms/step - loss: 0.0000e+00 - accuracy: 0.5000 - val_loss: 0.0000e+00 - val_accuracy: 0.5000\n",
            "Epoch 5/5\n",
            "6/6 [==============================] - 8s 1s/step - loss: 0.0000e+00 - accuracy: 0.5000 - val_loss: 0.0000e+00 - val_accuracy: 0.5000\n"
          ]
        },
        {
          "output_type": "execute_result",
          "data": {
            "text/plain": [
              "<keras.src.callbacks.History at 0x7a8738880490>"
            ]
          },
          "metadata": {},
          "execution_count": 107
        }
      ]
    },
    {
      "cell_type": "code",
      "source": [
        "import pickle\n",
        "import time\n",
        "from keras.models import Sequential\n",
        "from keras.layers import Conv2D, MaxPooling2D, Flatten, Dense\n",
        "from tensorflow.keras.callbacks import TensorBoard\n",
        "\n",
        "NAME=f'cat-vs-dog-prediction-{int(time.time())}'\n",
        "tensoeboard=TensorBoard(log_dir=f'logs/')\n",
        "\n",
        "\n",
        "x=pickle.load(open('x.pkl', 'rb'))\n",
        "y=pickle.load(open('y.pkl', 'rb'))\n",
        "\n",
        "x=x/255\n",
        "y=y/255\n",
        "\n",
        "model = Sequential()\n",
        "\n",
        "model.add(Conv2D(64, (3,3), activation = 'relu'))\n",
        "model.add(MaxPooling2D((2,2)))\n",
        "\n",
        "\n",
        "model.add(Conv2D(64, (3,3), activation = 'relu'))\n",
        "model.add(MaxPooling2D((2,2)))\n",
        "\n",
        "model.add(Flatten())\n",
        "\n",
        "\n",
        "model.add(Dense(128, activation=\"relu\"))\n",
        "model.add(Dense(2, activation=\"softmax\"))\n",
        "\n",
        "model.compile(optimizer = 'adam', loss='sparse_categorical_crossentropy', metrics=[\"accuracy\"])\n",
        "\n",
        "model.fit(x,y, epochs=5, validation_split=0.1, batch_size=32, callbacks=[tensoeboard])"
      ],
      "metadata": {
        "colab": {
          "base_uri": "https://localhost:8080/"
        },
        "id": "w4VPTTNsY8Hv",
        "outputId": "8ebe0ee2-aeff-4026-e2c2-d11f0db14118"
      },
      "execution_count": null,
      "outputs": [
        {
          "output_type": "stream",
          "name": "stdout",
          "text": [
            "Epoch 1/5\n",
            "6/6 [==============================] - 7s 772ms/step - loss: 0.1360 - accuracy: 0.3944 - val_loss: 0.0000e+00 - val_accuracy: 0.5000\n",
            "Epoch 2/5\n",
            "6/6 [==============================] - 5s 762ms/step - loss: 0.0000e+00 - accuracy: 0.5000 - val_loss: 0.0000e+00 - val_accuracy: 0.5000\n",
            "Epoch 3/5\n",
            "6/6 [==============================] - 6s 1s/step - loss: 0.0000e+00 - accuracy: 0.5000 - val_loss: 0.0000e+00 - val_accuracy: 0.5000\n",
            "Epoch 4/5\n",
            "6/6 [==============================] - 4s 726ms/step - loss: 0.0000e+00 - accuracy: 0.5000 - val_loss: 0.0000e+00 - val_accuracy: 0.5000\n",
            "Epoch 5/5\n",
            "6/6 [==============================] - 4s 728ms/step - loss: 0.0000e+00 - accuracy: 0.5000 - val_loss: 0.0000e+00 - val_accuracy: 0.5000\n"
          ]
        },
        {
          "output_type": "execute_result",
          "data": {
            "text/plain": [
              "<keras.src.callbacks.History at 0x7a875034ecb0>"
            ]
          },
          "metadata": {},
          "execution_count": 115
        }
      ]
    }
  ]
}